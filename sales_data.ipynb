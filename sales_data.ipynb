{
 "cells": [
  {
   "cell_type": "code",
   "execution_count": 83,
   "id": "87391d5e-3b20-422f-b237-58c5f9353a49",
   "metadata": {},
   "outputs": [],
   "source": [
    "import sqlite3"
   ]
  },
  {
   "cell_type": "code",
   "execution_count": 85,
   "id": "97e6fc19-054a-4cf6-8b1f-7bca7ae18bb1",
   "metadata": {},
   "outputs": [],
   "source": [
    "# Connect to SQLite DB\n",
    "conn = sqlite3.connect('sales_data.db')"
   ]
  },
  {
   "cell_type": "code",
   "execution_count": 87,
   "id": "03cb5ddd-d7f8-40db-99c8-ad5969a64251",
   "metadata": {},
   "outputs": [],
   "source": [
    "cursor = conn.cursor()"
   ]
  },
  {
   "cell_type": "code",
   "execution_count": 89,
   "id": "f33c287e-786e-4caa-9164-ad4cf5f57098",
   "metadata": {},
   "outputs": [
    {
     "data": {
      "text/plain": [
       "<sqlite3.Cursor at 0x1e6e97c3bc0>"
      ]
     },
     "execution_count": 89,
     "metadata": {},
     "output_type": "execute_result"
    }
   ],
   "source": [
    "cursor.execute('''\n",
    "    CREATE TABLE IF NOT EXISTS sales (\n",
    "        id INTEGER PRIMARY KEY,\n",
    "        product TEXT,\n",
    "        quantity INTEGER,\n",
    "        price_per_unit REAL,\n",
    "        sale_date TEXT\n",
    "    )\n",
    "''')"
   ]
  },
  {
   "cell_type": "code",
   "execution_count": 93,
   "id": "8d05764a-9576-4319-ae78-4b261d43d0b9",
   "metadata": {},
   "outputs": [],
   "source": [
    "sample_data = [\n",
    "    ('Apples', 10, 1.2, '2025-04-01'),\n",
    "    ('Bananas', 5, 0.5, '2025-04-02'),\n",
    "    ('Oranges', 7, 0.8, '2025-04-02'),\n",
    "    ('Apples', 4, 1.2, '2025-04-03'),\n",
    "    ('Bananas', 6, 0.5, '2025-04-03')\n",
    "]"
   ]
  },
  {
   "cell_type": "code",
   "execution_count": 95,
   "id": "ef011775-b28a-484c-8339-3d36224a9773",
   "metadata": {},
   "outputs": [
    {
     "data": {
      "text/plain": [
       "<sqlite3.Cursor at 0x1e6e97c3bc0>"
      ]
     },
     "execution_count": 95,
     "metadata": {},
     "output_type": "execute_result"
    }
   ],
   "source": [
    "cursor.executemany('INSERT INTO sales (product, quantity, price_per_unit, sale_date) VALUES (?, ?, ?, ?)', sample_data)"
   ]
  },
  {
   "cell_type": "code",
   "execution_count": 97,
   "id": "a7e216a9-c05d-4e3f-95bb-3393a010073b",
   "metadata": {},
   "outputs": [],
   "source": [
    "conn.commit()\n",
    "conn.close()"
   ]
  },
  {
   "cell_type": "code",
   "execution_count": 99,
   "id": "9d70b260-7287-45c8-8f74-94e385923393",
   "metadata": {},
   "outputs": [],
   "source": [
    "import sqlite3\n",
    "import pandas as pd\n",
    "import matplotlib.pyplot as plt"
   ]
  },
  {
   "cell_type": "code",
   "execution_count": 101,
   "id": "b1ca849c-69bb-474d-96e2-bbd2ac870f73",
   "metadata": {},
   "outputs": [],
   "source": [
    "conn = sqlite3.connect('sales_data.db')"
   ]
  },
  {
   "cell_type": "code",
   "execution_count": 103,
   "id": "f60bf931-84fa-48e1-bcef-8ffb1af02a53",
   "metadata": {},
   "outputs": [
    {
     "data": {
      "text/html": [
       "<div>\n",
       "<style scoped>\n",
       "    .dataframe tbody tr th:only-of-type {\n",
       "        vertical-align: middle;\n",
       "    }\n",
       "\n",
       "    .dataframe tbody tr th {\n",
       "        vertical-align: top;\n",
       "    }\n",
       "\n",
       "    .dataframe thead th {\n",
       "        text-align: right;\n",
       "    }\n",
       "</style>\n",
       "<table border=\"1\" class=\"dataframe\">\n",
       "  <thead>\n",
       "    <tr style=\"text-align: right;\">\n",
       "      <th></th>\n",
       "      <th>product</th>\n",
       "      <th>total_qty</th>\n",
       "      <th>revenue</th>\n",
       "    </tr>\n",
       "  </thead>\n",
       "  <tbody>\n",
       "    <tr>\n",
       "      <th>0</th>\n",
       "      <td>Apples</td>\n",
       "      <td>28</td>\n",
       "      <td>33.6</td>\n",
       "    </tr>\n",
       "    <tr>\n",
       "      <th>1</th>\n",
       "      <td>Bananas</td>\n",
       "      <td>22</td>\n",
       "      <td>11.0</td>\n",
       "    </tr>\n",
       "    <tr>\n",
       "      <th>2</th>\n",
       "      <td>Oranges</td>\n",
       "      <td>14</td>\n",
       "      <td>11.2</td>\n",
       "    </tr>\n",
       "  </tbody>\n",
       "</table>\n",
       "</div>"
      ],
      "text/plain": [
       "   product  total_qty  revenue\n",
       "0   Apples         28     33.6\n",
       "1  Bananas         22     11.0\n",
       "2  Oranges         14     11.2"
      ]
     },
     "execution_count": 103,
     "metadata": {},
     "output_type": "execute_result"
    }
   ],
   "source": [
    "df"
   ]
  },
  {
   "cell_type": "code",
   "execution_count": 105,
   "id": "261ac54a-f8be-4272-912f-a5042fb6618d",
   "metadata": {},
   "outputs": [],
   "source": [
    "query = '''\n",
    "    SELECT \n",
    "        product,\n",
    "        SUM(quantity) AS total_qty,\n",
    "        SUM(quantity * price_per_unit) AS revenue\n",
    "    FROM sales\n",
    "    GROUP BY product\n",
    "'''"
   ]
  },
  {
   "cell_type": "code",
   "execution_count": 107,
   "id": "1ad67377-c784-4175-be89-61fd5ffbb4ca",
   "metadata": {},
   "outputs": [],
   "source": [
    "df = pd.read_sql_query(query, conn)\n",
    "conn.close()"
   ]
  },
  {
   "cell_type": "code",
   "execution_count": 109,
   "id": "38b3bf63-1b2b-4d20-bcd1-0d6ee9fcf66e",
   "metadata": {},
   "outputs": [
    {
     "name": "stdout",
     "output_type": "stream",
     "text": [
      "Sales Summary:\n",
      "   product  total_qty  revenue\n",
      "0   Apples         14     16.8\n",
      "1  Bananas         11      5.5\n",
      "2  Oranges          7      5.6\n"
     ]
    }
   ],
   "source": [
    "print(\"Sales Summary:\")\n",
    "print(df)"
   ]
  },
  {
   "cell_type": "code",
   "execution_count": 111,
   "id": "244e9162-5a03-49b3-b8a8-50c7dd9d341d",
   "metadata": {},
   "outputs": [
    {
     "data": {
      "image/png": "[encoded data removed]",
      "text/plain": [
       "<Figure size 800x500 with 1 Axes>"
      ]
     },
     "metadata": {},
     "output_type": "display_data"
    }
   ],
   "source": [
    "plt.figure(figsize=(8, 5))\n",
    "plt.bar(df['product'], df['revenue'], color='skyblue')\n",
    "plt.title('Total Revenue per Product')\n",
    "plt.xlabel('Product')\n",
    "plt.ylabel('Revenue ($)')\n",
    "plt.grid(axis='y', linestyle='--', alpha=0.7)\n",
    "plt.tight_layout()\n",
    "plt.savefig('./current_gig.jpeg')\n",
    "plt.show()"
   ]
  },
  {
   "cell_type": "code",
   "execution_count": null,
   "id": "7fc6a3cc-46cd-45fd-a7a0-681c7cf67bda",
   "metadata": {},
   "outputs": [],
   "source": []
  }
 ],
 "metadata": {
  "kernelspec": {
   "display_name": "Python 3 (ipykernel)",
   "language": "python",
   "name": "python3"
  },
  "language_info": {
   "codemirror_mode": {
    "name": "ipython",
    "version": 3
   },
   "file_extension": ".py",
   "mimetype": "text/x-python",
   "name": "python",
   "nbconvert_exporter": "python",
   "pygments_lexer": "ipython3",
   "version": "3.12.7"
  }
 },
 "nbformat": 4,
 "nbformat_minor": 5
}
